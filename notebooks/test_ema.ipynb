{
 "cells": [
  {
   "cell_type": "code",
   "execution_count": 7,
   "metadata": {},
   "outputs": [
    {
     "ename": "",
     "evalue": "",
     "output_type": "error",
     "traceback": [
      "\u001b[1;31mThe Kernel crashed while executing code in the the current cell or a previous cell. Please review the code in the cell(s) to identify a possible cause of the failure. Click <a href='https://aka.ms/vscodeJupyterKernelCrash'>here</a> for more info. View Jupyter <a href='command:jupyter.viewOutput'>log</a> for further details."
     ]
    }
   ],
   "source": [
    "import sys; sys.path.append('..')\n",
    "from utils import stop_grad"
   ]
  },
  {
   "cell_type": "code",
   "execution_count": 1,
   "metadata": {},
   "outputs": [
    {
     "name": "stderr",
     "output_type": "stream",
     "text": [
      "\u001b[38;5;2m[i 0710 04:59:36.930645 84 log.cc:351] Load log_sync: 1\u001b[m\n",
      "\u001b[38;5;2m[i 0710 04:59:37.022817 84 compiler.py:953] Jittor(1.3.4.15) src: /root/miniconda3/envs/jittor/lib/python3.7/site-packages/jittor\u001b[m\n",
      "\u001b[38;5;2m[i 0710 04:59:37.047958 84 compiler.py:954] g++ at /usr/bin/g++(7.5.0)\u001b[m\n",
      "\u001b[38;5;2m[i 0710 04:59:37.051512 84 compiler.py:955] cache_path: /root/.cache/jittor/jt1.3.4/g++7.5.0/py3.7.0/Linux-4.4.0-11x56/IntelRXeonRGolxda/default\u001b[m\n",
      "\u001b[38;5;2m[i 0710 04:59:37.086602 84 __init__.py:411] Found /usr/local/cuda/bin/nvcc(11.2.152) at /usr/local/cuda/bin/nvcc.\u001b[m\n",
      "\u001b[38;5;2m[i 0710 04:59:37.106921 84 __init__.py:411] Found addr2line(2.30) at /usr/bin/addr2line.\u001b[m\n",
      "\u001b[38;5;2m[i 0710 04:59:37.347848 84 compiler.py:1008] cuda key:cu11.2.152_sm_75\u001b[m\n",
      "\u001b[38;5;2m[i 0710 04:59:37.707753 84 __init__.py:227] Total mem: 376.57GB, using 16 procs for compiling.\u001b[m\n",
      "\u001b[38;5;2m[i 0710 04:59:37.903816 84 jit_compiler.cc:28] Load cc_path: /usr/bin/g++\u001b[m\n",
      "\u001b[38;5;2m[i 0710 04:59:38.214966 84 init.cc:62] Found cuda archs: [75,]\u001b[m\n",
      "\u001b[38;5;2m[i 0710 04:59:39.086047 84 __init__.py:411] Found mpicc(2.1.1) at /usr/bin/mpicc.\u001b[m\n",
      "\u001b[38;5;2m[i 0710 04:59:39.428106 84 compile_extern.py:30] found /usr/local/cuda/include/cublas.h\u001b[m\n",
      "\u001b[38;5;2m[i 0710 04:59:39.449847 84 compile_extern.py:30] found /usr/local/cuda/lib64/libcublas.so\u001b[m\n",
      "\u001b[38;5;2m[i 0710 04:59:39.452960 84 compile_extern.py:30] found /usr/local/cuda/lib64/libcublasLt.so.11\u001b[m\n",
      "\u001b[38;5;2m[i 0710 04:59:41.022736 84 compile_extern.py:30] found /usr/include/cudnn.h\u001b[m\n",
      "\u001b[38;5;2m[i 0710 04:59:41.062270 84 compile_extern.py:30] found /usr/lib/x86_64-linux-gnu/libcudnn.so.8\u001b[m\n",
      "\u001b[38;5;2m[i 0710 04:59:41.063795 84 compile_extern.py:30] found /usr/lib/x86_64-linux-gnu/libcudnn_ops_infer.so.8\u001b[m\n",
      "\u001b[38;5;2m[i 0710 04:59:41.108901 84 compile_extern.py:30] found /usr/lib/x86_64-linux-gnu/libcudnn_ops_train.so.8\u001b[m\n",
      "\u001b[38;5;2m[i 0710 04:59:41.110478 84 compile_extern.py:30] found /usr/lib/x86_64-linux-gnu/libcudnn_cnn_infer.so.8\u001b[m\n",
      "\u001b[38;5;2m[i 0710 04:59:41.140645 84 compile_extern.py:30] found /usr/lib/x86_64-linux-gnu/libcudnn_cnn_train.so.8\u001b[m\n",
      "\u001b[38;5;2m[i 0710 04:59:42.359206 84 compile_extern.py:30] found /usr/local/cuda/include/curand.h\u001b[m\n",
      "\u001b[38;5;2m[i 0710 04:59:42.404372 84 compile_extern.py:30] found /usr/local/cuda/lib64/libcurand.so\u001b[m\n",
      "\u001b[38;5;2m[i 0710 04:59:42.482543 84 compile_extern.py:30] found /usr/local/cuda/include/cufft.h\u001b[m\n",
      "\u001b[38;5;2m[i 0710 04:59:42.518009 84 compile_extern.py:30] found /usr/local/cuda/lib64/libcufft.so\u001b[m\n",
      "\u001b[38;5;2m[i 0710 04:59:43.694245 84 cuda_flags.cc:32] CUDA enabled.\u001b[m\n"
     ]
    }
   ],
   "source": [
    "import jittor as jt\n",
    "import sys; sys.path.append('..')\n",
    "from model_jittor.ldm.ema import *\n",
    "from model_jittor.ldm.openai_model import UNetModel\n",
    "import matplotlib.pyplot as plt\n",
    "from model_jittor.ldm.ema import *\n",
    "jt.flags.use_cuda = True\n",
    "\n",
    "%load_ext autoreload\n",
    "%autoreload 2"
   ]
  },
  {
   "cell_type": "code",
   "execution_count": 2,
   "metadata": {},
   "outputs": [],
   "source": [
    "model = UNetModel()\n",
    "ema_model = EMAModel(model)"
   ]
  },
  {
   "cell_type": "code",
   "execution_count": 3,
   "metadata": {},
   "outputs": [
    {
     "name": "stderr",
     "output_type": "stream",
     "text": [
      "\n",
      "Compiling Operators(9/9) used: 3.32s eta:    0s \n"
     ]
    },
    {
     "data": {
      "text/plain": [
       "jt.Var([ 0.00072185 -0.07397059 -0.0177581   0.00604334  0.02918333], dtype=float32)"
      ]
     },
     "execution_count": 3,
     "metadata": {},
     "output_type": "execute_result"
    }
   ],
   "source": [
    "model.state_dict()['time_embed.0.weight'][0][:5]"
   ]
  },
  {
   "cell_type": "code",
   "execution_count": 4,
   "metadata": {},
   "outputs": [
    {
     "data": {
      "text/plain": [
       "jt.Var([ 0.00072185 -0.07397059 -0.0177581   0.00604334  0.02918333], dtype=float32)"
      ]
     },
     "execution_count": 4,
     "metadata": {},
     "output_type": "execute_result"
    }
   ],
   "source": [
    "ema_model.averaged_model.state_dict()['time_embed.0.weight'][0][:5]"
   ]
  },
  {
   "cell_type": "code",
   "execution_count": 5,
   "metadata": {},
   "outputs": [
    {
     "name": "stderr",
     "output_type": "stream",
     "text": [
      "\n",
      "Compiling Operators(40/40) used: 4.31s eta:    0s \n",
      "\u001b[38;5;3m[w 0710 05:00:00.776390 84 cuda_device_allocator.cc:29] Unable to alloc cuda device memory, use unify memory instead. This may cause low performance.\u001b[m\n",
      "\u001b[38;5;2m[i 0710 05:00:00.777914 84 cuda_device_allocator.cc:31] \n",
      "=== display_memory_info ===\n",
      " total_cpu_ram: 376.6GB total_device_ram: 23.65GB\n",
      " hold_vars: 1091 lived_vars: 13056 lived_ops: 13086\n",
      " name: sfrl is_device: 1 used: 1.671GB(99.1%) unused: 16.25MB(0.941%) total: 1.687GB\n",
      " name: sfrl is_device: 1 used:     0 B(-nan%) unused:     0 B(-nan%) total:     0 B\n",
      " name: sfrl is_device: 0 used:     0 B(-nan%) unused:     0 B(-nan%) total:     0 B\n",
      " name: sfrl is_device: 0 used: 1.291MB(64.6%) unused:   726KB(35.4%) total:     2MB\n",
      " name: temp is_device: 0 used:     0 B(-nan%) unused:     0 B(-nan%) total:     0 B\n",
      " name: temp is_device: 1 used:     0 B(0%) unused: 4.291GB(100%) total: 4.291GB\n",
      " cpu&gpu:  5.98GB gpu: 5.978GB cpu:     2MB\n",
      " free: cpu(69.13GB) gpu(3.473GB)\n",
      "===========================\n",
      "\u001b[m\n",
      "\n",
      "Compiling Operators(45/53) used: 3.34s eta: 0.594s 46/53) used: 4.36s eta: 0.663s 53/53) used: 5.37s eta:    0s \n"
     ]
    },
    {
     "name": "stdout",
     "output_type": "stream",
     "text": [
      "jt.Var([ 0.00073185 -0.07398058 -0.0177681   0.00603335  0.02919333], dtype=float32)\n",
      "[0.445877]\n"
     ]
    },
    {
     "name": "stderr",
     "output_type": "stream",
     "text": [
      "\n",
      "Compiling Operators(2/5) used: 4.31s eta: 6.47s 5/5) used: 5.33s eta:    0s \n"
     ]
    },
    {
     "name": "stdout",
     "output_type": "stream",
     "text": [
      "jt.Var([ 0.00074095 -0.07398882 -0.01777732  0.00602386  0.02920234], dtype=float32)\n",
      "[0.27721608]\n"
     ]
    },
    {
     "name": "stderr",
     "output_type": "stream",
     "text": [
      "\n",
      "Compiling Operators(5/5) used: 4.35s eta:    0s \n"
     ]
    },
    {
     "name": "stdout",
     "output_type": "stream",
     "text": [
      "jt.Var([ 0.0007458  -0.07399333 -0.01778222  0.00601886  0.02920716], dtype=float32)\n",
      "[0.20266539]\n",
      "jt.Var([ 0.00075045 -0.07399783 -0.01778688  0.0060142   0.0292118 ], dtype=float32)\n",
      "[0.16479117]\n",
      "jt.Var([ 0.00075483 -0.07400221 -0.01779124  0.0060099   0.02921619], dtype=float32)\n",
      "[0.14159963]\n",
      "jt.Var([ 0.00075893 -0.07400645 -0.0177953   0.00600598  0.02922031], dtype=float32)\n",
      "[0.12693618]\n",
      "jt.Var([ 0.00076275 -0.07401053 -0.01779905  0.0060024   0.02922417], dtype=float32)\n",
      "[0.11754528]\n",
      "jt.Var([ 0.00076629 -0.07401441 -0.01780251  0.00599916  0.02922776], dtype=float32)\n",
      "[0.11110616]\n",
      "jt.Var([ 0.00076957 -0.07401809 -0.01780569  0.00599622  0.02923109], dtype=float32)\n",
      "[0.10604455]\n",
      "jt.Var([ 0.00077259 -0.07402157 -0.01780861  0.00599356  0.02923417], dtype=float32)\n",
      "[0.10147465]\n"
     ]
    }
   ],
   "source": [
    "input = jt.rand(2, 6, 32, 32).stop_grad()\n",
    "t = jt.randint(0, 1000, (2,))\n",
    "target = jt.rand(2, 3, 32, 32).stop_grad()\n",
    "\n",
    "optimizer_jittor = jt.optim.Adam(\n",
    "    model.parameters(), \n",
    "    lr=1e-5, \n",
    ")\n",
    "\n",
    "losses_jittor = []\n",
    "model.train() # NOTE: do not forget\n",
    "for i in range(10):\n",
    "    output = model(input, t)\n",
    "    loss_jittor = nn.mse_loss(output , target)\n",
    "    optimizer_jittor.step(loss_jittor)\n",
    "    losses_jittor.append(loss_jittor.item())\n",
    "    ema_model.step(model)\n",
    "    print(ema_model.averaged_model.state_dict()['time_embed.0.weight'][0][:5])\n",
    "    print(loss_jittor.data)"
   ]
  },
  {
   "cell_type": "code",
   "execution_count": null,
   "metadata": {},
   "outputs": [],
   "source": []
  }
 ],
 "metadata": {
  "kernelspec": {
   "display_name": "Python 3.7.0 ('jittor')",
   "language": "python",
   "name": "python3"
  },
  "language_info": {
   "codemirror_mode": {
    "name": "ipython",
    "version": 3
   },
   "file_extension": ".py",
   "mimetype": "text/x-python",
   "name": "python",
   "nbconvert_exporter": "python",
   "pygments_lexer": "ipython3",
   "version": "3.7.0"
  },
  "orig_nbformat": 4,
  "vscode": {
   "interpreter": {
    "hash": "8c14ab1b01ae7bb48d68c2eea9d10b8e832ccc851f48b390690bd0283df20527"
   }
  }
 },
 "nbformat": 4,
 "nbformat_minor": 2
}
