{
 "cells": [
  {
   "cell_type": "code",
   "execution_count": 13,
   "metadata": {},
   "outputs": [
    {
     "name": "stdout",
     "output_type": "stream",
     "text": [
      "The autoreload extension is already loaded. To reload it, use:\n",
      "  %reload_ext autoreload\n"
     ]
    }
   ],
   "source": [
    "import numpy as np\n",
    "import jittor as jt\n",
    "import jittor.nn as jtnn\n",
    "import torch \n",
    "import torch.nn as tcnn\n",
    "\n",
    "from test import test_random_input_with_shape\n",
    "\n",
    "\n",
    "%load_ext autoreload\n",
    "%autoreload 2"
   ]
  },
  {
   "cell_type": "code",
   "execution_count": 21,
   "metadata": {},
   "outputs": [
    {
     "name": "stdout",
     "output_type": "stream",
     "text": [
      "==> testing jittor module...\n",
      "==> testing torch module...\n",
      "\ttorch loss\tjittor loss\tjittor - torch\n",
      " 0\t0.5969856\t0.5969857\t0.0000001\n",
      " 1\t0.5931187\t0.5931187\t0.0000001\n",
      " 2\t0.5894042\t0.5892718\t-0.0001324\n",
      " 3\t0.5857338\t0.5854445\t-0.0002894\n",
      " 4\t0.5820714\t0.5816368\t-0.0004346\n",
      " 5\t0.5784003\t0.5778489\t-0.0005513\n"
     ]
    }
   ],
   "source": [
    "from model_jittor.modules import Example as ExampleJittor\n",
    "from model_torch.modules import Example as ExampleTorch\n",
    "\n",
    "module_torch = ExampleTorch()\n",
    "module_jittor = ExampleJittor()\n",
    "module_jittor.load_state_dict(module_torch.state_dict())\n",
    "test_random_input_with_shape(module_jittor, module_torch, (4, 5), (4, 10), lr=0.001) # "
   ]
  },
  {
   "cell_type": "code",
   "execution_count": null,
   "metadata": {},
   "outputs": [],
   "source": []
  }
 ],
 "metadata": {
  "kernelspec": {
   "display_name": "Python 3.8.0 ('jt')",
   "language": "python",
   "name": "python3"
  },
  "language_info": {
   "codemirror_mode": {
    "name": "ipython",
    "version": 3
   },
   "file_extension": ".py",
   "mimetype": "text/x-python",
   "name": "python",
   "nbconvert_exporter": "python",
   "pygments_lexer": "ipython3",
   "version": "3.8.0"
  },
  "orig_nbformat": 4,
  "vscode": {
   "interpreter": {
    "hash": "efcefd29b8f1f4b4b8f00a6af7622fe343bb6f6fd381a689b5372ffa28756ea5"
   }
  }
 },
 "nbformat": 4,
 "nbformat_minor": 2
}
